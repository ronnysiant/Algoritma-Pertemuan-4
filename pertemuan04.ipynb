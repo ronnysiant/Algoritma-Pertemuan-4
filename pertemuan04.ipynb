{
 "cells": [
  {
   "cell_type": "code",
   "execution_count": 1,
   "metadata": {},
   "outputs": [
    {
     "name": "stdout",
     "output_type": "stream",
     "text": [
      "a= 5\n",
      "b= 7\n",
      "12\n",
      "-2\n",
      "5\n",
      "15\n",
      "-2\n"
     ]
    }
   ],
   "source": [
    "#Method01\n",
    "a=5;b=7;\n",
    "def init():\n",
    "    a=0;b=0;\n",
    "    \n",
    "def tambah():    \n",
    "    return a+b\n",
    "\n",
    "def kurang():\n",
    "    return a-b\n",
    "\n",
    "def cetak(n):\n",
    "    print(n)\n",
    "    \n",
    "init()    \n",
    "print(\"a=\",a)\n",
    "print(\"b=\",b)\n",
    "print(tambah())\n",
    "print(kurang())\n",
    "cetak(5)\n",
    "cetak(3+tambah())\n",
    "cetak(kurang())"
   ]
  },
  {
   "cell_type": "code",
   "execution_count": 2,
   "metadata": {},
   "outputs": [
    {
     "name": "stdout",
     "output_type": "stream",
     "text": [
      "Celcius =5\n",
      "celcius = 5.0\n",
      "reamur = 4.0\n",
      "fahrenhit = 41.0\n",
      "kelvin = 278.0\n"
     ]
    }
   ],
   "source": [
    "#method02\n",
    "def reamur(x):\n",
    "    return 4/5*c\n",
    "def fahrenhit(x):\n",
    "    return 9/5*x+32\n",
    "def kelvin(x):\n",
    "    return 273+x\n",
    "def cetak(s,x):\n",
    "    print(s,\"=\",x)\n",
    "\n",
    "c=float(input(\"Celcius =\"))\n",
    "cetak(\"celcius\",c)\n",
    "cetak(\"reamur\",reamur(c))\n",
    "cetak(\"fahrenhit\",fahrenhit(c))\n",
    "cetak(\"kelvin\",kelvin(c))\n",
    "\n"
   ]
  },
  {
   "cell_type": "code",
   "execution_count": null,
   "metadata": {},
   "outputs": [],
   "source": [
    "#method2a\n",
    "def reamur(x):\n",
    "    print(\"Reamur=\",4/5*x)\n",
    "def fahrenhit(x):\n",
    "    print(\"Fahrenhit=\",9/5*x+32)\n",
    "def kelvin(x):\n",
    "    print(\"Kelvin=\",273+x)\n",
    "c=float(input(\"Celcius =\"))\n",
    "reamur(c)\n",
    "fahrenhit(c)\n",
    "kelvin(c)"
   ]
  },
  {
   "cell_type": "code",
   "execution_count": null,
   "metadata": {},
   "outputs": [],
   "source": [
    "#method03\n",
    "def Keliling(x,y):\n",
    "    return 2*(x+y)\n",
    "def Luas(x,y):\n",
    "    return x*y\n",
    "pjg=float(input(\"Panjang =\"))\n",
    "lbr=float(input(\"Lebar =\"))\n",
    "print(\"keliling = \",Keliling(pjg,lbr))\n",
    "print(\"luas = \",Luas(pjg,lbr))\n",
    "\n"
   ]
  },
  {
   "cell_type": "code",
   "execution_count": null,
   "metadata": {},
   "outputs": [],
   "source": [
    "#method04\n",
    "def deret(n):\n",
    "    if n>0:\n",
    "        return deret(n-1)+n\n",
    "    else:\n",
    "        return 0\n",
    "def deret1(a,b,n):\n",
    "    if n>0:\n",
    "        return deret1(a,b,n-1)+a+(n-1)*b\n",
    "    else:\n",
    "        return 0\n",
    "def fak(n):\n",
    "    if n>0:\n",
    "        return n*fak(n-1)\n",
    "    else:\n",
    "        return 1\n",
    "def pangkat(a,n):\n",
    "    if n>0:\n",
    "        return a*pangkat(a,n-1)\n",
    "    else:\n",
    "        return 1\n",
    "def fibo(n):\n",
    "    if n>2:\n",
    "        return fibo(n-1)+fibo(n-2)\n",
    "    else:\n",
    "        return 1\n",
    "def GCD(a,b):\n",
    "    if b==0:\n",
    "        return a\n",
    "    else:\n",
    "        return GCD(b,a%b)\n",
    "\n",
    "print(deret(3))\n",
    "print(deret1(2,3,5))\n",
    "print(fak(4))\n",
    "print(pangkat(5,3))\n",
    "print(fibo(5))\n",
    "print(GCD(45,10))\n",
    "print(GCD(10,45))"
   ]
  },
  {
   "cell_type": "code",
   "execution_count": null,
   "metadata": {},
   "outputs": [],
   "source": [
    "#method04a\n",
    "def deret(n,h):\n",
    "    if n>0:\n",
    "        return deret(n-1,h+n)\n",
    "    else:\n",
    "        return h\n",
    "def deret1(a,b,n,h):\n",
    "    if n>0:\n",
    "        return deret1(a,b,n-1,h++a+(n-1)*b)\n",
    "    else:\n",
    "        return h\n",
    "def fak(n,h):\n",
    "    if n>0:\n",
    "        return fak(n-1,h*n)\n",
    "    else:\n",
    "        return h\n",
    "def pangkat(a,n,h):\n",
    "    if n>0:\n",
    "        return pangkat(a,n-1,a*h)\n",
    "    else:\n",
    "        return h\n",
    "\n",
    "print(deret(3,0))\n",
    "print(deret1(2,3,5,0))\n",
    "print(fak(4,1))\n",
    "print(pangkat(5,3,1))\n"
   ]
  },
  {
   "cell_type": "code",
   "execution_count": 3,
   "metadata": {},
   "outputs": [
    {
     "name": "stdout",
     "output_type": "stream",
     "text": [
      "5\n",
      "6\n"
     ]
    }
   ],
   "source": [
    "def max1(a,b):\n",
    "    if a>b:\n",
    "        return a\n",
    "    else:\n",
    "        return b\n",
    "print(max1(2,5))\n",
    "print(max1(6,3))"
   ]
  },
  {
   "cell_type": "code",
   "execution_count": null,
   "metadata": {},
   "outputs": [],
   "source": []
  },
  {
   "cell_type": "code",
   "execution_count": null,
   "metadata": {},
   "outputs": [],
   "source": []
  }
 ],
 "metadata": {
  "kernelspec": {
   "display_name": "Python 3",
   "language": "python",
   "name": "python3"
  },
  "language_info": {
   "codemirror_mode": {
    "name": "ipython",
    "version": 3
   },
   "file_extension": ".py",
   "mimetype": "text/x-python",
   "name": "python",
   "nbconvert_exporter": "python",
   "pygments_lexer": "ipython3",
   "version": "3.7.3"
  }
 },
 "nbformat": 4,
 "nbformat_minor": 2
}
